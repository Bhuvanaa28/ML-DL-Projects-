{
  "nbformat": 4,
  "nbformat_minor": 0,
  "metadata": {
    "colab": {
      "name": "Colour Recommendation System.ipynb",
      "provenance": [],
      "collapsed_sections": []
    },
    "kernelspec": {
      "name": "python3",
      "display_name": "Python 3"
    },
    "language_info": {
      "name": "python"
    }
  },
  "cells": [
    {
      "cell_type": "code",
      "source": [
        "import numpy as np\n",
        "import pandas as pd\n",
        "import cv2"
      ],
      "metadata": {
        "id": "uZlOex27WnMx"
      },
      "execution_count": null,
      "outputs": []
    },
    {
      "cell_type": "code",
      "source": [
        "from matplotlib import pyplot as plt\n",
        "import random"
      ],
      "metadata": {
        "id": "g-sm-1l7cZmk"
      },
      "execution_count": null,
      "outputs": []
    },
    {
      "cell_type": "code",
      "source": [
        "def generate_color(s):\n",
        "  r = random.randint(0,205) + 50\n",
        "  g = random.randint(0,205) + 50\n",
        "  b = random.randint(0,205) + 50\n",
        "  color = np.array([r,g,b])\n",
        "  if(s):\n",
        "    im = np.zeros((50,50,3),dtype=np.int64)\n",
        "    im[0:50,0:50]= color\n",
        "    plt.figure().set_size_inches(5,1)\n",
        "    plt.imshow(im)\n",
        "    plt.axis(\"off\")\n",
        "    plt.show()\n",
        "  return color"
      ],
      "metadata": {
        "id": "QR8RgoVofjur"
      },
      "execution_count": null,
      "outputs": []
    },
    {
      "cell_type": "code",
      "source": [
        "def data():\n",
        "  x_new,y_new = [],[]\n",
        "\n",
        "  for i in range(15):\n",
        "    inp = generate_color(1)\n",
        "    x_new.append(list(inp))\n",
        "    print(\"Enter preference in a scale of 1 to 5\")\n",
        "    oup = int(input())\n",
        "    y_new.append(oup)\n",
        "\n",
        "  return x_new,y_new"
      ],
      "metadata": {
        "id": "K0ev9G-HaXra"
      },
      "execution_count": null,
      "outputs": []
    },
    {
      "cell_type": "code",
      "source": [
        "x_new,y_new = data()\n",
        "x_new = np.array(x_new)/255\n",
        "y_new = np.array(y_new)/5"
      ],
      "metadata": {
        "colab": {
          "base_uri": "https://localhost:8080/",
          "height": 1000
        },
        "id": "dvRv_aEJinbf",
        "outputId": "e16314f6-59e1-4ef3-ad85-5fe1841a89ba"
      },
      "execution_count": null,
      "outputs": [
        {
          "output_type": "display_data",
          "data": {
            "text/plain": [
              "<Figure size 360x72 with 1 Axes>"
            ],
            "image/png": "[encoded data removed]"
          },
          "metadata": {
            "needs_background": "light"
          }
        },
        {
          "name": "stdout",
          "output_type": "stream",
          "text": [
            "Enter preference in a scale of 1 to 5\n",
            "3\n"
          ]
        },
        {
          "output_type": "display_data",
          "data": {
            "text/plain": [
              "<Figure size 360x72 with 1 Axes>"
            ],
            "image/png": "[encoded data removed]"
          },
          "metadata": {
            "needs_background": "light"
          }
        },
        {
          "name": "stdout",
          "output_type": "stream",
          "text": [
            "Enter preference in a scale of 1 to 5\n",
            "1\n"
          ]
        },
        {
          "output_type": "display_data",
          "data": {
            "text/plain": [
              "<Figure size 360x72 with 1 Axes>"
            ],
            "image/png": "[encoded data removed]"
          },
          "metadata": {
            "needs_background": "light"
          }
        },
        {
          "name": "stdout",
          "output_type": "stream",
          "text": [
            "Enter preference in a scale of 1 to 5\n",
            "5\n"
          ]
        },
        {
          "output_type": "display_data",
          "data": {
            "text/plain": [
              "<Figure size 360x72 with 1 Axes>"
            ],
            "image/png": "[encoded data removed]"
          },
          "metadata": {
            "needs_background": "light"
          }
        },
        {
          "name": "stdout",
          "output_type": "stream",
          "text": [
            "Enter preference in a scale of 1 to 5\n",
            "1\n"
          ]
        },
        {
          "output_type": "display_data",
          "data": {
            "text/plain": [
              "<Figure size 360x72 with 1 Axes>"
            ],
            "image/png": "[encoded data removed]"
          },
          "metadata": {
            "needs_background": "light"
          }
        },
        {
          "name": "stdout",
          "output_type": "stream",
          "text": [
            "Enter preference in a scale of 1 to 5\n",
            "3\n"
          ]
        },
        {
          "output_type": "display_data",
          "data": {
            "text/plain": [
              "<Figure size 360x72 with 1 Axes>"
            ],
            "image/png": "[encoded data removed]"
          },
          "metadata": {
            "needs_background": "light"
          }
        },
        {
          "name": "stdout",
          "output_type": "stream",
          "text": [
            "Enter preference in a scale of 1 to 5\n",
            "2\n"
          ]
        },
        {
          "output_type": "display_data",
          "data": {
            "text/plain": [
              "<Figure size 360x72 with 1 Axes>"
            ],
            "image/png": "[encoded data removed]"
          },
          "metadata": {
            "needs_background": "light"
          }
        },
        {
          "name": "stdout",
          "output_type": "stream",
          "text": [
            "Enter preference in a scale of 1 to 5\n",
            "4\n"
          ]
        },
        {
          "output_type": "display_data",
          "data": {
            "text/plain": [
              "<Figure size 360x72 with 1 Axes>"
            ],
            "image/png": "[encoded data removed]"
          },
          "metadata": {
            "needs_background": "light"
          }
        },
        {
          "name": "stdout",
          "output_type": "stream",
          "text": [
            "Enter preference in a scale of 1 to 5\n",
            "5\n"
          ]
        },
        {
          "output_type": "display_data",
          "data": {
            "text/plain": [
              "<Figure size 360x72 with 1 Axes>"
            ],
            "image/png": "[encoded data removed]"
          },
          "metadata": {
            "needs_background": "light"
          }
        },
        {
          "name": "stdout",
          "output_type": "stream",
          "text": [
            "Enter preference in a scale of 1 to 5\n",
            "5\n"
          ]
        },
        {
          "output_type": "display_data",
          "data": {
            "text/plain": [
              "<Figure size 360x72 with 1 Axes>"
            ],
            "image/png": "[encoded data removed]"
          },
          "metadata": {
            "needs_background": "light"
          }
        },
        {
          "name": "stdout",
          "output_type": "stream",
          "text": [
            "Enter preference in a scale of 1 to 5\n",
            "5\n"
          ]
        },
        {
          "output_type": "display_data",
          "data": {
            "text/plain": [
              "<Figure size 360x72 with 1 Axes>"
            ],
            "image/png": "[encoded data removed]"
          },
          "metadata": {
            "needs_background": "light"
          }
        },
        {
          "name": "stdout",
          "output_type": "stream",
          "text": [
            "Enter preference in a scale of 1 to 5\n",
            "3\n"
          ]
        },
        {
          "output_type": "display_data",
          "data": {
            "text/plain": [
              "<Figure size 360x72 with 1 Axes>"
            ],
            "image/png": "[encoded data removed]"
          },
          "metadata": {
            "needs_background": "light"
          }
        },
        {
          "name": "stdout",
          "output_type": "stream",
          "text": [
            "Enter preference in a scale of 1 to 5\n",
            "1\n"
          ]
        },
        {
          "output_type": "display_data",
          "data": {
            "text/plain": [
              "<Figure size 360x72 with 1 Axes>"
            ],
            "image/png": "[encoded data removed]"
          },
          "metadata": {
            "needs_background": "light"
          }
        },
        {
          "name": "stdout",
          "output_type": "stream",
          "text": [
            "Enter preference in a scale of 1 to 5\n",
            "5\n"
          ]
        },
        {
          "output_type": "display_data",
          "data": {
            "text/plain": [
              "<Figure size 360x72 with 1 Axes>"
            ],
            "image/png": "[encoded data removed]"
          },
          "metadata": {
            "needs_background": "light"
          }
        },
        {
          "name": "stdout",
          "output_type": "stream",
          "text": [
            "Enter preference in a scale of 1 to 5\n",
            "1\n"
          ]
        },
        {
          "output_type": "display_data",
          "data": {
            "text/plain": [
              "<Figure size 360x72 with 1 Axes>"
            ],
            "image/png": "[encoded data removed]"
          },
          "metadata": {
            "needs_background": "light"
          }
        },
        {
          "name": "stdout",
          "output_type": "stream",
          "text": [
            "Enter preference in a scale of 1 to 5\n",
            "2\n"
          ]
        }
      ]
    },
    {
      "cell_type": "code",
      "source": [
        "x_train= x_new\n",
        "y_train = y_new"
      ],
      "metadata": {
        "id": "tT1Rewrvkn45"
      },
      "execution_count": null,
      "outputs": []
    },
    {
      "cell_type": "code",
      "source": [
        "learning_rate = 0.1\n",
        "iterations = 1000"
      ],
      "metadata": {
        "id": "zlLl1v1dyL4Q"
      },
      "execution_count": null,
      "outputs": []
    },
    {
      "cell_type": "code",
      "source": [
        "# number of neurons at the input layer\n",
        "input_size = 3\n",
        "\n",
        "# number of hidden layer neurons\n",
        "hidden_size = 12 \n",
        "\n",
        "# number of neurons at the output layer\n",
        "output_size = 1"
      ],
      "metadata": {
        "id": "y4wcJxWfyRb0"
      },
      "execution_count": null,
      "outputs": []
    },
    {
      "cell_type": "code",
      "source": [
        "# initializing weight for the hidden layer\n",
        "W1 = np.random.normal(scale=0.5, size=(input_size, hidden_size))   \n",
        "\n",
        "# initializing weight for the output layer\n",
        "W2 = np.random.normal(scale=0.5, size=(hidden_size , output_size)) "
      ],
      "metadata": {
        "id": "8I9PQmfuyXpA"
      },
      "execution_count": null,
      "outputs": []
    },
    {
      "cell_type": "code",
      "source": [
        "W1.shape,W2.shape"
      ],
      "metadata": {
        "colab": {
          "base_uri": "https://localhost:8080/"
        },
        "id": "f4TtswQ32ZNd",
        "outputId": "e5f8b014-81c1-43ac-b14c-40b01880850b"
      },
      "execution_count": null,
      "outputs": [
        {
          "output_type": "execute_result",
          "data": {
            "text/plain": [
              "((3, 12), (12, 1))"
            ]
          },
          "metadata": {},
          "execution_count": 10
        }
      ]
    },
    {
      "cell_type": "code",
      "source": [
        "def sigmoid(x):\n",
        "    return 1 / (1 + np.exp(-x))\n",
        "\n",
        "def mean_squared_error(y_pred, y_true):\n",
        "    return ((y_pred - y_true)**2).sum() / (2*y_pred.size)"
      ],
      "metadata": {
        "id": "1vvP830UycJb"
      },
      "execution_count": null,
      "outputs": []
    },
    {
      "cell_type": "code",
      "source": [
        "def epochs(x_train,y_train,W1,W2):\n",
        "  for itr in range(iterations):    \n",
        "    \n",
        "    # feedforward propagation on hidden layer\n",
        "    Zin = np.dot(x_train, W1)\n",
        "    Z = sigmoid(Zin)\n",
        "\n",
        "    # on output layer\n",
        "    yin = np.dot(Z, W2)\n",
        "    y = sigmoid(yin)    \n",
        "    \n",
        "    mse = mean_squared_error(y, y_train)\n",
        "    y_train = y_train.reshape(-1,1)\n",
        "    \n",
        "    # backpropagation\n",
        "    E1 = y_train - y\n",
        "    dW1 = E1 * y * (1 - y)\n",
        "\n",
        "    E2 = np.dot(dW1, W2.T)\n",
        "    dW2 = E2 * Z * (1 - Z)\n",
        "    \n",
        "    # weight updation\n",
        "    W2_update = np.dot(Z.T, dW1)\n",
        "    W1_update = np.dot(x_train.T, dW2)\n",
        "\n",
        "    W2 = W2 + learning_rate * W2_update\n",
        "    W1 = W1 + learning_rate * W1_update\n",
        "\n",
        "  return mse,W1,W2"
      ],
      "metadata": {
        "id": "lqOe6MMcL_du"
      },
      "execution_count": null,
      "outputs": []
    },
    {
      "cell_type": "code",
      "source": [
        "mse,W1,W2 = epochs(x_train,y_train,W1,W2)"
      ],
      "metadata": {
        "id": "CpKD87x1fXef"
      },
      "execution_count": null,
      "outputs": []
    },
    {
      "cell_type": "code",
      "source": [
        "def make_predictions(x_test): \n",
        "    Z1 = np.dot(x_test, W1)\n",
        "    A1 = sigmoid(Z1)\n",
        "    Z2 = np.dot(A1, W2)\n",
        "    A2 = sigmoid(Z2)\n",
        "    val = A2*5\n",
        "    return val"
      ],
      "metadata": {
        "id": "BewMO7fOhybu"
      },
      "execution_count": null,
      "outputs": []
    },
    {
      "cell_type": "code",
      "source": [
        "def make_recommendations(Data_X,Data_Y,n,):  \n",
        "  for i in range(n):\n",
        "    col = generate_color(0)\n",
        "    col = np.array(col)/255\n",
        "    col = col.reshape(1,-1)\n",
        "    pred = make_predictions(col)\n",
        "    Data_X = np.concatenate([Data_X,col])\n",
        "    Data_Y = np.concatenate([Data_Y,pred[0]])\n",
        "  return Data_X,Data_Y"
      ],
      "metadata": {
        "id": "YqDlPzcoem3s"
      },
      "execution_count": null,
      "outputs": []
    },
    {
      "cell_type": "code",
      "source": [
        "Data_X,Data_Y = np.array([]).reshape(-1,3),np.array([])"
      ],
      "metadata": {
        "id": "miUmgUe43r4E"
      },
      "execution_count": null,
      "outputs": []
    },
    {
      "cell_type": "code",
      "source": [
        "Data_X,Data_Y = make_recommendations(Data_X,Data_Y,2000)"
      ],
      "metadata": {
        "id": "K5IffeFHrwlb"
      },
      "execution_count": null,
      "outputs": []
    },
    {
      "cell_type": "code",
      "source": [
        "indexes = np.argsort(Data_Y)\n",
        "values = Data_X[indexes]\n",
        "c = np.where(np.diff(values,axis=0)>np.array([0.3,0.3,0.3]))"
      ],
      "metadata": {
        "id": "bFwETrq39XmU"
      },
      "execution_count": null,
      "outputs": []
    },
    {
      "cell_type": "code",
      "source": [
        "new_Y = Data_Y[c[0]]\n",
        "new_X = Data_X[c[0]]\n",
        "indexes = np.argsort(new_Y)[-10:]\n",
        "col_val = new_X[indexes]\n",
        "pref_val = new_Y[indexes]"
      ],
      "metadata": {
        "id": "-UzMwhis9Xmo"
      },
      "execution_count": null,
      "outputs": []
    },
    {
      "cell_type": "code",
      "source": [
        "for i in range(9,-1,-1):\n",
        "    color = col_val[i] *255\n",
        "    im = np.zeros((50,50,3),dtype=np.int64)\n",
        "    im[0:50,0:50]= color\n",
        "    plt.figure().set_size_inches(5,1)\n",
        "    plt.imshow(im)\n",
        "    plt.axis(\"off\")\n",
        "    plt.show()\n",
        "    print(\"Preference predicted:\",pref_val[i],\"~\",round(pref_val[i]))"
      ],
      "metadata": {
        "colab": {
          "base_uri": "https://localhost:8080/",
          "height": 881
        },
        "outputId": "bb91e88b-4185-4cb8-dea9-798c28669360",
        "id": "EUTzuKbCrNJ7"
      },
      "execution_count": null,
      "outputs": [
        {
          "output_type": "display_data",
          "data": {
            "text/plain": [
              "<Figure size 360x72 with 1 Axes>"
            ],
            "image/png": "[encoded data removed]"
          },
          "metadata": {
            "needs_background": "light"
          }
        },
        {
          "output_type": "stream",
          "name": "stdout",
          "text": [
            "Preference predicted: 4.713341783522006 ~ 5\n"
          ]
        },
        {
          "output_type": "display_data",
          "data": {
            "text/plain": [
              "<Figure size 360x72 with 1 Axes>"
            ],
            "image/png": "[encoded data removed]"
          },
          "metadata": {
            "needs_background": "light"
          }
        },
        {
          "output_type": "stream",
          "name": "stdout",
          "text": [
            "Preference predicted: 4.713341783522006 ~ 5\n"
          ]
        },
        {
          "output_type": "display_data",
          "data": {
            "text/plain": [
              "<Figure size 360x72 with 1 Axes>"
            ],
            "image/png": "[encoded data removed]"
          },
          "metadata": {
            "needs_background": "light"
          }
        },
        {
          "output_type": "stream",
          "name": "stdout",
          "text": [
            "Preference predicted: 4.690661961162393 ~ 5\n"
          ]
        },
        {
          "output_type": "display_data",
          "data": {
            "text/plain": [
              "<Figure size 360x72 with 1 Axes>"
            ],
            "image/png": "[encoded data removed]"
          },
          "metadata": {
            "needs_background": "light"
          }
        },
        {
          "output_type": "stream",
          "name": "stdout",
          "text": [
            "Preference predicted: 4.685581314591529 ~ 5\n"
          ]
        },
        {
          "output_type": "display_data",
          "data": {
            "text/plain": [
              "<Figure size 360x72 with 1 Axes>"
            ],
            "image/png": "[encoded data removed]"
          },
          "metadata": {
            "needs_background": "light"
          }
        },
        {
          "output_type": "stream",
          "name": "stdout",
          "text": [
            "Preference predicted: 4.685581314591529 ~ 5\n"
          ]
        },
        {
          "output_type": "display_data",
          "data": {
            "text/plain": [
              "<Figure size 360x72 with 1 Axes>"
            ],
            "image/png": "[encoded data removed]"
          },
          "metadata": {
            "needs_background": "light"
          }
        },
        {
          "output_type": "stream",
          "name": "stdout",
          "text": [
            "Preference predicted: 4.67926844414677 ~ 5\n"
          ]
        },
        {
          "output_type": "display_data",
          "data": {
            "text/plain": [
              "<Figure size 360x72 with 1 Axes>"
            ],
            "image/png": "[encoded data removed]"
          },
          "metadata": {
            "needs_background": "light"
          }
        },
        {
          "output_type": "stream",
          "name": "stdout",
          "text": [
            "Preference predicted: 4.671258371190033 ~ 5\n"
          ]
        },
        {
          "output_type": "display_data",
          "data": {
            "text/plain": [
              "<Figure size 360x72 with 1 Axes>"
            ],
            "image/png": "[encoded data removed]"
          },
          "metadata": {
            "needs_background": "light"
          }
        },
        {
          "output_type": "stream",
          "name": "stdout",
          "text": [
            "Preference predicted: 4.656820135599379 ~ 5\n"
          ]
        },
        {
          "output_type": "display_data",
          "data": {
            "text/plain": [
              "<Figure size 360x72 with 1 Axes>"
            ],
            "image/png": "[encoded data removed]"
          },
          "metadata": {
            "needs_background": "light"
          }
        },
        {
          "output_type": "stream",
          "name": "stdout",
          "text": [
            "Preference predicted: 4.654499586092325 ~ 5\n"
          ]
        },
        {
          "output_type": "display_data",
          "data": {
            "text/plain": [
              "<Figure size 360x72 with 1 Axes>"
            ],
            "image/png": "[encoded data removed]"
          },
          "metadata": {
            "needs_background": "light"
          }
        },
        {
          "output_type": "stream",
          "name": "stdout",
          "text": [
            "Preference predicted: 4.648198597965855 ~ 5\n"
          ]
        }
      ]
    },
    {
      "cell_type": "code",
      "source": [
        "print(\"MSE after \",iterations,\" iterations:\",mse)"
      ],
      "metadata": {
        "colab": {
          "base_uri": "https://localhost:8080/"
        },
        "id": "ieA8WmAMd2J5",
        "outputId": "29c68bb6-9bac-493a-8c9c-df2885f9dbfa"
      },
      "execution_count": null,
      "outputs": [
        {
          "output_type": "stream",
          "name": "stdout",
          "text": [
            "MSE after  1000  iterations: 0.03083483408441365\n"
          ]
        }
      ]
    }
  ]
}